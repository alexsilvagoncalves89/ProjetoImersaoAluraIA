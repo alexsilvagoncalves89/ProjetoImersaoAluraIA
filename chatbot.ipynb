{
  "nbformat": 4,
  "nbformat_minor": 0,
  "metadata": {
    "colab": {
      "provenance": [],
      "authorship_tag": "ABX9TyOJAoPuoV6RPlYs9W/3BXLu",
      "include_colab_link": true
    },
    "kernelspec": {
      "name": "python3",
      "display_name": "Python 3"
    },
    "language_info": {
      "name": "python"
    }
  },
  "cells": [
    {
      "cell_type": "markdown",
      "metadata": {
        "id": "view-in-github",
        "colab_type": "text"
      },
      "source": [
        "<a href=\"https://colab.research.google.com/github/alexsilvagoncalves89/ProjetoImersaoAluraIA/blob/main/chatbot.ipynb\" target=\"_parent\"><img src=\"https://colab.research.google.com/assets/colab-badge.svg\" alt=\"Open In Colab\"/></a>"
      ]
    },
    {
      "cell_type": "markdown",
      "source": [
        "# **Bibliotecas necessárias para o projeto**\n",
        "\n",
        "\n",
        "NTLK\n",
        "\n",
        "spaCy\n",
        "\n",
        "Transformers"
      ],
      "metadata": {
        "id": "ymOf9z_JI-sI"
      }
    },
    {
      "cell_type": "markdown",
      "source": [
        "#**Instalando as bibliotecas**\n",
        "\n",
        "!pip install nltk -q\n",
        "\n",
        "!pip install spacy -q\n",
        "\n",
        "!pip install transformers -q"
      ],
      "metadata": {
        "id": "ju8WDCDuKFKu"
      }
    },
    {
      "cell_type": "code",
      "source": [
        "!pip install nltk -q"
      ],
      "metadata": {
        "id": "aB1rRqabGq3M"
      },
      "execution_count": 42,
      "outputs": []
    },
    {
      "cell_type": "code",
      "source": [
        "!pip install spacy -q"
      ],
      "metadata": {
        "id": "qcbAw6ezGyv8"
      },
      "execution_count": 3,
      "outputs": []
    },
    {
      "cell_type": "code",
      "source": [
        "!pip install transformers -q"
      ],
      "metadata": {
        "id": "Y-WejiV6G1Nt"
      },
      "execution_count": 4,
      "outputs": []
    },
    {
      "cell_type": "markdown",
      "source": [
        "**Importando as bibliotecas que foram instaladas no passo anterior**"
      ],
      "metadata": {
        "id": "hZRzCLssLQPx"
      }
    },
    {
      "cell_type": "code",
      "source": [
        "import nltk\n",
        "import spacy\n",
        "from transformers import AutoModelForSeq2SeqLM, AutoTokenizer"
      ],
      "metadata": {
        "id": "iGC1dtiDG5ep"
      },
      "execution_count": 5,
      "outputs": []
    },
    {
      "cell_type": "code",
      "source": [
        " import nltk\n",
        " nltk.download('punkt')"
      ],
      "metadata": {
        "colab": {
          "base_uri": "https://localhost:8080/"
        },
        "id": "jCSK-2HsJGcl",
        "outputId": "b84d8cfe-cd3e-4bf9-e5fe-fc00dafa0fe1"
      },
      "execution_count": 43,
      "outputs": [
        {
          "output_type": "stream",
          "name": "stderr",
          "text": [
            "[nltk_data] Downloading package punkt to /root/nltk_data...\n",
            "[nltk_data]   Package punkt is already up-to-date!\n"
          ]
        },
        {
          "output_type": "execute_result",
          "data": {
            "text/plain": [
              "True"
            ]
          },
          "metadata": {},
          "execution_count": 43
        }
      ]
    },
    {
      "cell_type": "markdown",
      "source": [
        "#**Criando um dicionário de regras para o CHATBOT**"
      ],
      "metadata": {
        "id": "Et0rVuNSHGWK"
      }
    },
    {
      "cell_type": "code",
      "source": [
        "regras = {\n",
        "    \"olá\": \"Olá! Seja bem-vindo(a) à empresa!\",\n",
        "    \"quem é você\": \"Sou o chatbot de onboarding, aqui para te ajudar na sua chegada.\"\n",
        "}\n",
        "\n",
        "respostas_menu = {\n",
        "    \"1\": \"Olá! É com enorme alegria que dou as boas-vindas aos novos talentos que se juntam à família Alura! \\n\\nÉ inspirador ver o time crescer com pessoas tão dedicadas e talentosas, prontas para contribuir com a nossa missão de transformar vidas através da educação. \\n\\nTenho certeza de que juntos faremos a Alura ainda mais inovadora e impactante! Desejo a todos uma jornada incrível e repleta de aprendizado. Sintam-se em casa!\",\n",
        "    \"2\": \"Alura a maior plataforma de cursos online de tecnologia do Brasil! Desde 2013, \\n\\ntemos a missão de democratizar o conhecimento e empoderar pessoas através da educação de qualidade.\\n\\nNossa trajetória é marcada pela inovação constante, buscando sempre as melhores ferramentas e metodologias para oferecer uma experiência de aprendizado única.\\n\\nAqui, vocês farão parte de um time apaixonado por tecnologia e pelo impacto que ela pode gerar na vida das pessoas.\\n\\nPreparem-se para aprender, crescer e construir o futuro conosco!.\",\n",
        "    \"3\": \"Oferecemos um excelente pacote de benefícios, incluindo:\\n \\n \\033[1mSaúde, alimentação e bem estar:\\033[0m \\n \\n- Vale-Refeição: R$XXX,00 por mês (depositado no Flash, cartão de benefício flexível);\\n\\n- Vale-Alimentação: R$XXX,00 por mês;\\n\\n- Apoio home-office: R$XX,00 por mês, que você poderá usar como preferir;\\n\\n- Convênio médico (cobertura de XX%) e odontológico (opcional) da SulAmérica Saúde;- Licenças maternidade e paternidade estendidas;\\n\\n- Seguro de vida;\\n\\n- Gympass;\\n\\n- Day off no mês do seu aniversário;\\n\\n- Suporte de equipamentos para o seu local de trabalho ser o mais confortável possível..\",\n",
        "    \"4\": \"Aqui estão informações importantes:\\n\\n \\033[1mAmbiente de trabalho:\\033[0m \\n\\n- Horário flexível; \\n\\n- Dress code criado por você; \\n\\n- Cultura de trabalho humanizada que respeita e valoriza todas as pessoas, incentivando a diversidade e a inclusão;\\n\\n- Meio colaborativo e com abertura para propor ideias e ajudar na construção de projetos e ações;\\n\\n- Eventos internos que abordam temáticas de grande relevância para a sociedade, favorecendo a disseminação do conhecimento.\",\n",
        "    \"5\": \"Informações sobre o desenvolvimento profissional e pessoal na \\033[1mAlura\\033[0m \\n\\n- One on One com a sua liderança, um momento para falar sobre sua carreira e/ou sua vida pessoal, sendo um espaço aberto;\\n\\n- Ambiente horizontal, ou seja, não contamos com uma progressão de carreira em escadinha.\\n\\n No lugar disso, queremos que você foque no seu desenvolvimento pessoal e daremos todo o incentivo para que você possa crescer e ter oportunidades em suas áreas de interesse;\\n\\n- Networking com grandes profissionais da área da educação e da tecnologia;\\n\\n- Acesso gratuito às plataformas de educação e tecnologia do Grupo Alura (Alura, Alura Língua, PM3 e e-books da Casa do Código) para que você se desenvolva em todos os âmbitos que deseja e explore novos horizontes..\",\n",
        "    \"6\": \"Até logo! Se precisar de mais ajuda, é só voltar.\"\n",
        "}\n",
        "\n",
        "def processar_entrada(texto):\n",
        "    texto = texto.lower()\n",
        "    tokens = nltk.word_tokenize(texto)\n",
        "    return tokens\n",
        "\n",
        "def encontrar_resposta(tokens):\n",
        "    for palavra in tokens:\n",
        "        if palavra in regras:\n",
        "            return regras[palavra]\n",
        "    return \"Desculpe, não encontrei essa resposta.\"\n",
        "\n",
        "print(\"Sou o chatbot de onboarding, aqui para te ajudar na sua chegada.\\n\")\n",
        "\n",
        "def exibir_menu():\n",
        "    print(\"\\nEscolha uma opção:\")\n",
        "    print(\"1 - Mensagem de boas vindas\")\n",
        "    print(\"2 - Informações sobre a empresa\")\n",
        "    print(\"3 - Informações sobre os benefícios\")\n",
        "    print(\"4 - Infomrações sobre o ambiente de trabalho\")\n",
        "    print(\"5 - Informações sobre o desenvolvimento profisional e pessoal\")\n",
        "    print(\"6 - Sair\\n\")\n",
        "\n",
        "while True:\n",
        "    exibir_menu()\n",
        "    opcao = input(\"Opção: \")\n",
        "\n",
        "    if opcao in respostas_menu:\n",
        "        print(\"\\nChatbot:\", respostas_menu[opcao])\n",
        "        if opcao == \"7\":\n",
        "            break  # Sair do loop\n",
        "    else:\n",
        "        print(\"Chatbot: Opção inválida. Tente novamente.\")"
      ],
      "metadata": {
        "colab": {
          "base_uri": "https://localhost:8080/",
          "height": 1000
        },
        "id": "W3pKyKsx7_pt",
        "outputId": "e386e860-b65c-49c1-a80f-d67ea815f395"
      },
      "execution_count": 46,
      "outputs": [
        {
          "output_type": "stream",
          "name": "stdout",
          "text": [
            "Sou o chatbot de onboarding, aqui para te ajudar na sua chegada.\n",
            "\n",
            "\n",
            "Escolha uma opção:\n",
            "1 - Mensagem de boas vindas\n",
            "2 - Informações sobre a empresa\n",
            "3 - Informações sobre os benefícios\n",
            "4 - Infomrações sobre o ambiente de trabalho\n",
            "5 - Informações sobre o desenvolvimento profisional e pessoal\n",
            "6 - Sair\n",
            "\n",
            "Opção: 5\n",
            "\n",
            "Chatbot: Informações sobre o desenvolvimento profissional e pessoal na \u001b[1mAlura\u001b[0m \n",
            "\n",
            "- One on One com a sua liderança, um momento para falar sobre sua carreira e/ou sua vida pessoal, sendo um espaço aberto;\n",
            "\n",
            "- Ambiente horizontal, ou seja, não contamos com uma progressão de carreira em escadinha.\n",
            "\n",
            " No lugar disso, queremos que você foque no seu desenvolvimento pessoal e daremos todo o incentivo para que você possa crescer e ter oportunidades em suas áreas de interesse;\n",
            "\n",
            "- Networking com grandes profissionais da área da educação e da tecnologia;\n",
            "\n",
            "- Acesso gratuito às plataformas de educação e tecnologia do Grupo Alura (Alura, Alura Língua, PM3 e e-books da Casa do Código) para que você se desenvolva em todos os âmbitos que deseja e explore novos horizontes..\n",
            "\n",
            "Escolha uma opção:\n",
            "1 - Mensagem de boas vindas\n",
            "2 - Informações sobre a empresa\n",
            "3 - Informações sobre os benefícios\n",
            "4 - Infomrações sobre o ambiente de trabalho\n",
            "5 - Informações sobre o desenvolvimento profisional e pessoal\n",
            "6 - Sair\n",
            "\n",
            "Opção: 1\n",
            "\n",
            "Chatbot: Olá! É com enorme alegria que dou as boas-vindas aos novos talentos que se juntam à família Alura! \n",
            "\n",
            "É inspirador ver o time crescer com pessoas tão dedicadas e talentosas, prontas para contribuir com a nossa missão de transformar vidas através da educação. \n",
            "\n",
            "Tenho certeza de que juntos faremos a Alura ainda mais inovadora e impactante! Desejo a todos uma jornada incrível e repleta de aprendizado. Sintam-se em casa!\n",
            "\n",
            "Escolha uma opção:\n",
            "1 - Mensagem de boas vindas\n",
            "2 - Informações sobre a empresa\n",
            "3 - Informações sobre os benefícios\n",
            "4 - Infomrações sobre o ambiente de trabalho\n",
            "5 - Informações sobre o desenvolvimento profisional e pessoal\n",
            "6 - Sair\n",
            "\n",
            "Opção: 8\n",
            "Chatbot: Opção inválida. Tente novamente.\n",
            "\n",
            "Escolha uma opção:\n",
            "1 - Mensagem de boas vindas\n",
            "2 - Informações sobre a empresa\n",
            "3 - Informações sobre os benefícios\n",
            "4 - Infomrações sobre o ambiente de trabalho\n",
            "5 - Informações sobre o desenvolvimento profisional e pessoal\n",
            "6 - Sair\n",
            "\n",
            "Opção: 7\n",
            "Chatbot: Opção inválida. Tente novamente.\n",
            "\n",
            "Escolha uma opção:\n",
            "1 - Mensagem de boas vindas\n",
            "2 - Informações sobre a empresa\n",
            "3 - Informações sobre os benefícios\n",
            "4 - Infomrações sobre o ambiente de trabalho\n",
            "5 - Informações sobre o desenvolvimento profisional e pessoal\n",
            "6 - Sair\n",
            "\n",
            "Opção: 6\n",
            "\n",
            "Chatbot: Até logo! Se precisar de mais ajuda, é só voltar.\n",
            "\n",
            "Escolha uma opção:\n",
            "1 - Mensagem de boas vindas\n",
            "2 - Informações sobre a empresa\n",
            "3 - Informações sobre os benefícios\n",
            "4 - Infomrações sobre o ambiente de trabalho\n",
            "5 - Informações sobre o desenvolvimento profisional e pessoal\n",
            "6 - Sair\n",
            "\n"
          ]
        },
        {
          "output_type": "error",
          "ename": "KeyboardInterrupt",
          "evalue": "Interrupted by user",
          "traceback": [
            "\u001b[0;31m---------------------------------------------------------------------------\u001b[0m",
            "\u001b[0;31mKeyboardInterrupt\u001b[0m                         Traceback (most recent call last)",
            "\u001b[0;32m<ipython-input-46-eff971be564b>\u001b[0m in \u001b[0;36m<cell line: 37>\u001b[0;34m()\u001b[0m\n\u001b[1;32m     37\u001b[0m \u001b[0;32mwhile\u001b[0m \u001b[0;32mTrue\u001b[0m\u001b[0;34m:\u001b[0m\u001b[0;34m\u001b[0m\u001b[0;34m\u001b[0m\u001b[0m\n\u001b[1;32m     38\u001b[0m     \u001b[0mexibir_menu\u001b[0m\u001b[0;34m(\u001b[0m\u001b[0;34m)\u001b[0m\u001b[0;34m\u001b[0m\u001b[0;34m\u001b[0m\u001b[0m\n\u001b[0;32m---> 39\u001b[0;31m     \u001b[0mopcao\u001b[0m \u001b[0;34m=\u001b[0m \u001b[0minput\u001b[0m\u001b[0;34m(\u001b[0m\u001b[0;34m\"Opção: \"\u001b[0m\u001b[0;34m)\u001b[0m\u001b[0;34m\u001b[0m\u001b[0;34m\u001b[0m\u001b[0m\n\u001b[0m\u001b[1;32m     40\u001b[0m \u001b[0;34m\u001b[0m\u001b[0m\n\u001b[1;32m     41\u001b[0m     \u001b[0;32mif\u001b[0m \u001b[0mopcao\u001b[0m \u001b[0;32min\u001b[0m \u001b[0mrespostas_menu\u001b[0m\u001b[0;34m:\u001b[0m\u001b[0;34m\u001b[0m\u001b[0;34m\u001b[0m\u001b[0m\n",
            "\u001b[0;32m/usr/local/lib/python3.10/dist-packages/ipykernel/kernelbase.py\u001b[0m in \u001b[0;36mraw_input\u001b[0;34m(self, prompt)\u001b[0m\n\u001b[1;32m    849\u001b[0m                 \u001b[0;34m\"raw_input was called, but this frontend does not support input requests.\"\u001b[0m\u001b[0;34m\u001b[0m\u001b[0;34m\u001b[0m\u001b[0m\n\u001b[1;32m    850\u001b[0m             )\n\u001b[0;32m--> 851\u001b[0;31m         return self._input_request(str(prompt),\n\u001b[0m\u001b[1;32m    852\u001b[0m             \u001b[0mself\u001b[0m\u001b[0;34m.\u001b[0m\u001b[0m_parent_ident\u001b[0m\u001b[0;34m,\u001b[0m\u001b[0;34m\u001b[0m\u001b[0;34m\u001b[0m\u001b[0m\n\u001b[1;32m    853\u001b[0m             \u001b[0mself\u001b[0m\u001b[0;34m.\u001b[0m\u001b[0m_parent_header\u001b[0m\u001b[0;34m,\u001b[0m\u001b[0;34m\u001b[0m\u001b[0;34m\u001b[0m\u001b[0m\n",
            "\u001b[0;32m/usr/local/lib/python3.10/dist-packages/ipykernel/kernelbase.py\u001b[0m in \u001b[0;36m_input_request\u001b[0;34m(self, prompt, ident, parent, password)\u001b[0m\n\u001b[1;32m    893\u001b[0m             \u001b[0;32mexcept\u001b[0m \u001b[0mKeyboardInterrupt\u001b[0m\u001b[0;34m:\u001b[0m\u001b[0;34m\u001b[0m\u001b[0;34m\u001b[0m\u001b[0m\n\u001b[1;32m    894\u001b[0m                 \u001b[0;31m# re-raise KeyboardInterrupt, to truncate traceback\u001b[0m\u001b[0;34m\u001b[0m\u001b[0;34m\u001b[0m\u001b[0m\n\u001b[0;32m--> 895\u001b[0;31m                 \u001b[0;32mraise\u001b[0m \u001b[0mKeyboardInterrupt\u001b[0m\u001b[0;34m(\u001b[0m\u001b[0;34m\"Interrupted by user\"\u001b[0m\u001b[0;34m)\u001b[0m \u001b[0;32mfrom\u001b[0m \u001b[0;32mNone\u001b[0m\u001b[0;34m\u001b[0m\u001b[0;34m\u001b[0m\u001b[0m\n\u001b[0m\u001b[1;32m    896\u001b[0m             \u001b[0;32mexcept\u001b[0m \u001b[0mException\u001b[0m \u001b[0;32mas\u001b[0m \u001b[0me\u001b[0m\u001b[0;34m:\u001b[0m\u001b[0;34m\u001b[0m\u001b[0;34m\u001b[0m\u001b[0m\n\u001b[1;32m    897\u001b[0m                 \u001b[0mself\u001b[0m\u001b[0;34m.\u001b[0m\u001b[0mlog\u001b[0m\u001b[0;34m.\u001b[0m\u001b[0mwarning\u001b[0m\u001b[0;34m(\u001b[0m\u001b[0;34m\"Invalid Message:\"\u001b[0m\u001b[0;34m,\u001b[0m \u001b[0mexc_info\u001b[0m\u001b[0;34m=\u001b[0m\u001b[0;32mTrue\u001b[0m\u001b[0;34m)\u001b[0m\u001b[0;34m\u001b[0m\u001b[0;34m\u001b[0m\u001b[0m\n",
            "\u001b[0;31mKeyboardInterrupt\u001b[0m: Interrupted by user"
          ]
        }
      ]
    }
  ]
}