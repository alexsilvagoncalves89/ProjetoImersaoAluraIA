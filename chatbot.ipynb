{
  "nbformat": 4,
  "nbformat_minor": 0,
  "metadata": {
    "colab": {
      "provenance": [],
      "authorship_tag": "ABX9TyOJAoPuoV6RPlYs9W/3BXLu",
      "include_colab_link": true
    },
    "kernelspec": {
      "name": "python3",
      "display_name": "Python 3"
    },
    "language_info": {
      "name": "python"
    }
  },
  "cells": [
    {
      "cell_type": "markdown",
      "metadata": {
        "id": "view-in-github",
        "colab_type": "text"
      },
      "source": [
        "<a href=\"https://colab.research.google.com/github/alexsilvagoncalves89/ProjetoImersaoAluraIA/blob/main/chatbot.ipynb\" target=\"_parent\"><img src=\"https://colab.research.google.com/assets/colab-badge.svg\" alt=\"Open In Colab\"/></a>"
      ]
    },
    {
      "cell_type": "markdown",
      "source": [
        "# **Bibliotecas necessárias para o projeto**\n",
        "\n",
        "\n",
        "NTLK\n",
        "\n",
        "spaCy\n",
        "\n",
        "Transformers"
      ],
      "metadata": {
        "id": "ymOf9z_JI-sI"
      }
    },
    {
      "cell_type": "markdown",
      "source": [
        "#**Instalando as bibliotecas**\n",
        "\n",
        "!pip install nltk -q\n",
        "\n",
        "!pip install spacy -q\n",
        "\n",
        "!pip install transformers -q"
      ],
      "metadata": {
        "id": "ju8WDCDuKFKu"
      }
    },
    {
      "cell_type": "code",
      "source": [
        "!pip install nltk -q"
      ],
      "metadata": {
        "id": "aB1rRqabGq3M"
      },
      "execution_count": 42,
      "outputs": []
    },
    {
      "cell_type": "code",
      "source": [
        "!pip install spacy -q"
      ],
      "metadata": {
        "id": "qcbAw6ezGyv8"
      },
      "execution_count": 3,
      "outputs": []
    },
    {
      "cell_type": "code",
      "source": [
        "!pip install transformers -q"
      ],
      "metadata": {
        "id": "Y-WejiV6G1Nt"
      },
      "execution_count": 4,
      "outputs": []
    },
    {
      "cell_type": "markdown",
      "source": [
        "**Importando as bibliotecas que foram instaladas no passo anterior**"
      ],
      "metadata": {
        "id": "hZRzCLssLQPx"
      }
    },
    {
      "cell_type": "code",
      "source": [
        "import nltk\n",
        "import spacy\n",
        "from transformers import AutoModelForSeq2SeqLM, AutoTokenizer"
      ],
      "metadata": {
        "id": "iGC1dtiDG5ep"
      },
      "execution_count": 48,
      "outputs": []
    },
    {
      "cell_type": "code",
      "source": [
        " import nltk\n",
        " nltk.download('punkt')"
      ],
      "metadata": {
        "id": "jCSK-2HsJGcl"
      },
      "execution_count": null,
      "outputs": []
    },
    {
      "cell_type": "markdown",
      "source": [
        "#**Criando um dicionário de regras para o CHATBOT**"
      ],
      "metadata": {
        "id": "Et0rVuNSHGWK"
      }
    },
    {
      "cell_type": "code",
      "source": [
        "regras = {\n",
        "    \"olá\": \"Olá! Seja bem-vindo(a) à empresa!\",\n",
        "    \"quem é você\": \"Sou o chatbot de onboarding, aqui para te ajudar na sua chegada.\"\n",
        "}\n",
        "\n",
        "respostas_menu = {\n",
        "    \"1\": \"Olá! É com enorme alegria que dou as boas-vindas aos novos talentos que se juntam à família Alura! \\n\\nÉ inspirador ver o time crescer com pessoas tão dedicadas e talentosas, prontas para contribuir com a nossa missão de transformar vidas através da educação. \\n\\nTenho certeza de que juntos faremos a Alura ainda mais inovadora e impactante! Desejo a todos uma jornada incrível e repleta de aprendizado. Sintam-se em casa!\",\n",
        "    \"2\": \"Alura a maior plataforma de cursos online de tecnologia do Brasil! Desde 2013, \\n\\ntemos a missão de democratizar o conhecimento e empoderar pessoas através da educação de qualidade.\\n\\nNossa trajetória é marcada pela inovação constante, buscando sempre as melhores ferramentas e metodologias para oferecer uma experiência de aprendizado única.\\n\\nAqui, vocês farão parte de um time apaixonado por tecnologia e pelo impacto que ela pode gerar na vida das pessoas.\\n\\nPreparem-se para aprender, crescer e construir o futuro conosco!.\",\n",
        "    \"3\": \"Oferecemos um excelente pacote de benefícios, incluindo:\\n \\n \\033[1mSaúde, alimentação e bem estar:\\033[0m \\n \\n- Vale-Refeição: R$XXX,00 por mês (depositado no Flash, cartão de benefício flexível);\\n\\n- Vale-Alimentação: R$XXX,00 por mês;\\n\\n- Apoio home-office: R$XX,00 por mês, que você poderá usar como preferir;\\n\\n- Convênio médico (cobertura de XX%) e odontológico (opcional) da SulAmérica Saúde;- Licenças maternidade e paternidade estendidas;\\n\\n- Seguro de vida;\\n\\n- Gympass;\\n\\n- Day off no mês do seu aniversário;\\n\\n- Suporte de equipamentos para o seu local de trabalho ser o mais confortável possível..\",\n",
        "    \"4\": \"Aqui estão informações importantes:\\n\\n \\033[1mAmbiente de trabalho:\\033[0m \\n\\n- Horário flexível; \\n\\n- Dress code criado por você; \\n\\n- Cultura de trabalho humanizada que respeita e valoriza todas as pessoas, incentivando a diversidade e a inclusão;\\n\\n- Meio colaborativo e com abertura para propor ideias e ajudar na construção de projetos e ações;\\n\\n- Eventos internos que abordam temáticas de grande relevância para a sociedade, favorecendo a disseminação do conhecimento.\",\n",
        "    \"5\": \"Informações sobre o desenvolvimento profissional e pessoal na \\033[1mAlura\\033[0m \\n\\n- One on One com a sua liderança, um momento para falar sobre sua carreira e/ou sua vida pessoal, sendo um espaço aberto;\\n\\n- Ambiente horizontal, ou seja, não contamos com uma progressão de carreira em escadinha.\\n\\n No lugar disso, queremos que você foque no seu desenvolvimento pessoal e daremos todo o incentivo para que você possa crescer e ter oportunidades em suas áreas de interesse;\\n\\n- Networking com grandes profissionais da área da educação e da tecnologia;\\n\\n- Acesso gratuito às plataformas de educação e tecnologia do Grupo Alura (Alura, Alura Língua, PM3 e e-books da Casa do Código) para que você se desenvolva em todos os âmbitos que deseja e explore novos horizontes..\",\n",
        "    \"6\": \"Até logo! Se precisar de mais ajuda, é só voltar.\"\n",
        "}\n",
        "\n",
        "def processar_entrada(texto):\n",
        "    texto = texto.lower()\n",
        "    tokens = nltk.word_tokenize(texto)\n",
        "    return tokens\n",
        "\n",
        "def encontrar_resposta(tokens):\n",
        "    for palavra in tokens:\n",
        "        if palavra in regras:\n",
        "            return regras[palavra]\n",
        "    return \"Desculpe, não encontrei essa resposta.\"\n",
        "\n",
        "print(\"Sou o chatbot de onboarding, aqui para te ajudar na sua chegada.\\n\")\n",
        "\n",
        "def exibir_menu():\n",
        "    print(\"\\nEscolha uma opção:\")\n",
        "    print(\"1 - Mensagem de boas vindas\")\n",
        "    print(\"2 - Informações sobre a empresa\")\n",
        "    print(\"3 - Informações sobre os benefícios\")\n",
        "    print(\"4 - Infomrações sobre o ambiente de trabalho\")\n",
        "    print(\"5 - Informações sobre o desenvolvimento profisional e pessoal\")\n",
        "    print(\"6 - Sair\\n\")\n",
        "\n",
        "while True:\n",
        "    exibir_menu()\n",
        "    opcao = input(\"Opção: \")\n",
        "\n",
        "    if opcao in respostas_menu:\n",
        "        print(\"\\nChatbot:\", respostas_menu[opcao])\n",
        "        if opcao == \"7\":\n",
        "            break  # Sair do loop\n",
        "    else:\n",
        "        print(\"Chatbot: Opção inválida. Tente novamente.\")"
      ],
      "metadata": {
        "colab": {
          "base_uri": "https://localhost:8080/"
        },
        "id": "W3pKyKsx7_pt",
        "outputId": "32bcdd14-5426-46cc-fdce-4e9e86d8f5dd"
      },
      "execution_count": null,
      "outputs": [
        {
          "output_type": "stream",
          "name": "stdout",
          "text": [
            "Sou o chatbot de onboarding, aqui para te ajudar na sua chegada.\n",
            "\n",
            "\n",
            "Escolha uma opção:\n",
            "1 - Mensagem de boas vindas\n",
            "2 - Informações sobre a empresa\n",
            "3 - Informações sobre os benefícios\n",
            "4 - Infomrações sobre o ambiente de trabalho\n",
            "5 - Informações sobre o desenvolvimento profisional e pessoal\n",
            "6 - Sair\n",
            "\n"
          ]
        }
      ]
    }
  ]
}